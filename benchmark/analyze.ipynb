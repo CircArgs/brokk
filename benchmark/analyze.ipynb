{
 "cells": [
  {
   "cell_type": "markdown",
   "id": "a5b56497",
   "metadata": {},
   "source": [
    "# Notes:\n",
    "built with \n",
    "\n",
    "`cargo build -r`\n",
    "\n",
    "`odin build __bench_file_name__ -o:speed -file`"
   ]
  },
  {
   "cell_type": "code",
   "execution_count": 1,
   "id": "92ccb02b",
   "metadata": {},
   "outputs": [],
   "source": [
    "import pandas as pd"
   ]
  },
  {
   "cell_type": "code",
   "execution_count": 2,
   "id": "b1186b74",
   "metadata": {},
   "outputs": [],
   "source": [
    "import regex as re"
   ]
  },
  {
   "cell_type": "code",
   "execution_count": 3,
   "id": "67cb1afb",
   "metadata": {},
   "outputs": [],
   "source": [
    "odin=pd.read_csv('odin/timings.csv')\n",
    "\n",
    "baseline=pd.read_csv('odin/baseline_timings.csv')\n",
    "\n",
    "rust=pd.read_csv('rust/timings.csv')"
   ]
  },
  {
   "cell_type": "code",
   "execution_count": 4,
   "id": "4240a851",
   "metadata": {},
   "outputs": [],
   "source": [
    "odin['size']=odin.left_size*odin.shared_size*odin.shared_size*odin.right_size\n",
    "baseline['size']=baseline.left_size*baseline.shared_size*baseline.shared_size*baseline.right_size\n",
    "rust['size']=rust.left_size*rust.shared_size*rust.shared_size*rust.right_size"
   ]
  },
  {
   "cell_type": "markdown",
   "id": "0f2cd0b9",
   "metadata": {},
   "source": [
    "# we are ~N times **slower** than the rust nalgebra benchmark"
   ]
  },
  {
   "cell_type": "code",
   "execution_count": 5,
   "id": "adea7ca2",
   "metadata": {},
   "outputs": [
    {
     "data": {
      "text/plain": [
       "8.277579300706034"
      ]
     },
     "execution_count": 5,
     "metadata": {},
     "output_type": "execute_result"
    }
   ],
   "source": [
    "(odin.time.median()/odin['size'].median())/(rust.time.median()/rust['size'].median())"
   ]
  },
  {
   "cell_type": "markdown",
   "id": "56b3123b",
   "metadata": {},
   "source": [
    "# we are ~N times faster than the baseline"
   ]
  },
  {
   "cell_type": "code",
   "execution_count": 13,
   "id": "c2980b9e",
   "metadata": {},
   "outputs": [
    {
     "data": {
      "text/plain": [
       "16.024607259106386"
      ]
     },
     "execution_count": 13,
     "metadata": {},
     "output_type": "execute_result"
    }
   ],
   "source": [
    "1/((odin.time.median()/odin['size'].median())/(baseline.time.median()/baseline['size'].median()))"
   ]
  },
  {
   "cell_type": "code",
   "execution_count": 7,
   "id": "3d86c518",
   "metadata": {},
   "outputs": [
    {
     "data": {
      "text/plain": [
       "array(['s', 'ms'], dtype=object)"
      ]
     },
     "execution_count": 7,
     "metadata": {},
     "output_type": "execute_result"
    }
   ],
   "source": [
    "odin.magnitude.unique()"
   ]
  },
  {
   "cell_type": "code",
   "execution_count": 8,
   "id": "d736bd86",
   "metadata": {},
   "outputs": [
    {
     "data": {
      "text/plain": [
       "array(['s', 'ms'], dtype=object)"
      ]
     },
     "execution_count": 8,
     "metadata": {},
     "output_type": "execute_result"
    }
   ],
   "source": [
    "baseline.magnitude.unique()"
   ]
  },
  {
   "cell_type": "code",
   "execution_count": 9,
   "id": "5cff0655",
   "metadata": {},
   "outputs": [
    {
     "data": {
      "text/plain": [
       "array(['ms'], dtype=object)"
      ]
     },
     "execution_count": 9,
     "metadata": {},
     "output_type": "execute_result"
    }
   ],
   "source": [
    "rust.magnitude.unique()"
   ]
  },
  {
   "cell_type": "code",
   "execution_count": null,
   "id": "a79bf481",
   "metadata": {},
   "outputs": [],
   "source": []
  }
 ],
 "metadata": {
  "kernelspec": {
   "display_name": "Python 3 (ipykernel)",
   "language": "python",
   "name": "python3"
  },
  "language_info": {
   "codemirror_mode": {
    "name": "ipython",
    "version": 3
   },
   "file_extension": ".py",
   "mimetype": "text/x-python",
   "name": "python",
   "nbconvert_exporter": "python",
   "pygments_lexer": "ipython3",
   "version": "3.9.12"
  }
 },
 "nbformat": 4,
 "nbformat_minor": 5
}
